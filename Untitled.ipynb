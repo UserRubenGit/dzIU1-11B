{
 "cells": [
  {
   "cell_type": "code",
   "execution_count": 1,
   "id": "43bd7f3d",
   "metadata": {},
   "outputs": [
    {
     "name": "stdout",
     "output_type": "stream",
     "text": [
      "Введите значение1\n",
      "Введите значение2\n",
      "Введите значение1\n",
      "Не существует\n"
     ]
    }
   ],
   "source": [
    "a = int(input(\"Введите значение\"))\n",
    "b = int(input(\"Введите значение\"))\n",
    "c = int(input(\"Введите значение\"))\n",
    "if (a<b+c) and (b<a+c)and(c<a+b) == True:\n",
    "    print (\"Существует\")\n",
    "else:\n",
    "    print (\"Не существует\")"
   ]
  },
  {
   "cell_type": "code",
   "execution_count": 8,
   "id": "0eccb0e0",
   "metadata": {},
   "outputs": [
    {
     "name": "stdout",
     "output_type": "stream",
     "text": [
      "Введите значение2\n",
      "Введите значение2\n",
      "Введите значение2\n",
      "Существует\n",
      "Треугольник равносторонний\n",
      "Треугольник равнобедренный\n"
     ]
    }
   ],
   "source": [
    "a = int(input(\"Введите значение\"))\n",
    "b = int(input(\"Введите значение\"))\n",
    "c = int(input(\"Введите значение\"))\n",
    "if (a<b+c) and (b<a+c) and (c<a+b) == True:\n",
    "    print (\"Существует\")\n",
    "else:\n",
    "    print (\"Не существует\")\n",
    "if (a==b) and (a==c) and (b==c):\n",
    "    print (\"Треугольник равносторонний\")\n",
    "if (a==b) or (a==c) or (b==c):\n",
    "    print (\"Треугольник равнобедренный\")\n",
    "else:\n",
    "    print (\"Треугольник разносторонний\")"
   ]
  },
  {
   "cell_type": "code",
   "execution_count": 16,
   "id": "697a952e",
   "metadata": {},
   "outputs": [
    {
     "ename": "SyntaxError",
     "evalue": "invalid syntax (Temp/ipykernel_16520/2580725331.py, line 14)",
     "output_type": "error",
     "traceback": [
      "\u001b[1;36m  File \u001b[1;32m\"C:\\Users\\2C38~1\\AppData\\Local\\Temp/ipykernel_16520/2580725331.py\"\u001b[1;36m, line \u001b[1;32m14\u001b[0m\n\u001b[1;33m    else:\u001b[0m\n\u001b[1;37m    ^\u001b[0m\n\u001b[1;31mSyntaxError\u001b[0m\u001b[1;31m:\u001b[0m invalid syntax\n"
     ]
    }
   ],
   "source": [
    "a = int(input(\"Введите значение\"))\n",
    "b = int(input(\"Введите значение\"))\n",
    "c = int(input(\"Введите значение\"))\n",
    "if (a<b+c) and (b<a+c) and (c<a+b):\n",
    "    print (\"Существует\")\n",
    "else:\n",
    "    print (\"Не существует\")\n",
    "\n",
    "if (a==b) and (a==c) and (b==c):\n",
    "    print (\"Треугольник равносторонний\")\n",
    "else:\n",
    "    if (a==b) or (a==c) or (b==c):\n",
    "        print (\"Треугольник равнобедренный\")\n",
    "else:\n",
    "    print (\"Треугольник разносторонний\")"
   ]
  },
  {
   "cell_type": "code",
   "execution_count": 18,
   "id": "5c5951ce",
   "metadata": {},
   "outputs": [
    {
     "name": "stdout",
     "output_type": "stream",
     "text": [
      "Введите значение \n",
      "2\n",
      "Введите значение \n",
      "2\n",
      "Введите значение \n",
      "2\n",
      "Существует\n",
      "Треугольник равносторонний\n"
     ]
    }
   ],
   "source": [
    "a = int(input(\"Введите значение \\n\"))\n",
    "b = int(input(\"Введите значение \\n\"))\n",
    "c = int(input(\"Введите значение \\n\"))\n",
    "\n",
    "if (a<b+c) and (b<a+c) and (c<a+b):\n",
    "    print (\"Существует\")\n",
    "else:\n",
    "    print (\"Не существует\")\n",
    "if (a==b) and (a==c) and (b==c):\n",
    "    print (\"Треугольник равносторонний\")\n",
    "elif (a==b) or (a==c) or (b==c):\n",
    "    print (\"Треугольник равнобедренный\")\n",
    "else:\n",
    "    print (\"Треугольник разносторонний\")"
   ]
  },
  {
   "cell_type": "code",
   "execution_count": null,
   "id": "17e3a278",
   "metadata": {},
   "outputs": [],
   "source": []
  }
 ],
 "metadata": {
  "kernelspec": {
   "display_name": "Python 3 (ipykernel)",
   "language": "python",
   "name": "python3"
  },
  "language_info": {
   "codemirror_mode": {
    "name": "ipython",
    "version": 3
   },
   "file_extension": ".py",
   "mimetype": "text/x-python",
   "name": "python",
   "nbconvert_exporter": "python",
   "pygments_lexer": "ipython3",
   "version": "3.9.7"
  }
 },
 "nbformat": 4,
 "nbformat_minor": 5
}
